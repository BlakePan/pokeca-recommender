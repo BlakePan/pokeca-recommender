{
 "cells": [
  {
   "cell_type": "code",
   "execution_count": null,
   "metadata": {},
   "outputs": [],
   "source": [
    "import sys\n",
    "from pathlib import Path\n",
    "from collections import defaultdict\n",
    "from pprint import pprint\n",
    "import json\n",
    "from tinydb import Query, TinyDB\n",
    "\n",
    "sys.path.append(str(Path.cwd().parent))\n",
    "from pokeca_rec.src.pokecabook_crawler import crawl_gym_decks\n",
    "from pokeca_rec.src.deck_categorizer import DeckCategorizer\n",
    "from pokeca_rec.src.official_crawler import crawl_result_pages"
   ]
  },
  {
   "cell_type": "code",
   "execution_count": null,
   "metadata": {},
   "outputs": [],
   "source": [
    "deck_categorizer = DeckCategorizer(category_db_path=\"../db/deck_category.json\")"
   ]
  },
  {
   "cell_type": "markdown",
   "metadata": {},
   "source": [
    "### Get decks from gym"
   ]
  },
  {
   "cell_type": "code",
   "execution_count": null,
   "metadata": {},
   "outputs": [],
   "source": [
    "gym_decks = crawl_gym_decks(\n",
    "     page_start=1,\n",
    "     num_pages=1,\n",
    "     progress_bar_lv1=True,\n",
    "     progress_bar_lv2=True,\n",
    "     card_db=\"../db/ptcg_card.db\"\n",
    ")"
   ]
  },
  {
   "cell_type": "code",
   "execution_count": null,
   "metadata": {},
   "outputs": [],
   "source": [
    "db_file = \"../db/gym_deck_db.json\"\n",
    "DB = TinyDB(db_file, indent=4, ensure_ascii=False)\n",
    "DB.drop_tables()\n",
    "\n",
    "gym_decks_refine = {}\n",
    "for date, decks in gym_decks.items():\n",
    "    for _, deck_list in decks.items():\n",
    "        for deck in deck_list:\n",
    "            categ = deck_categorizer(deck)\n",
    "            categ = categ if categ else \"Others\"\n",
    "            document = {\"date\": date, \"category\": categ, \"deck\": deck}\n",
    "            DB.insert(document)"
   ]
  },
  {
   "cell_type": "markdown",
   "metadata": {},
   "source": [
    "### Get decks from city league"
   ]
  },
  {
   "cell_type": "code",
   "execution_count": null,
   "metadata": {},
   "outputs": [],
   "source": [
    "import re\n",
    "\n",
    "def datetime_transform(input_str):\n",
    "    # example input_str = \"2024年04月06日(土)\"\n",
    "\n",
    "    # Regular expression pattern to extract year, month, and day\n",
    "    pattern = r\"(\\d{4})年(\\d{2})月(\\d{2})日\"\n",
    "\n",
    "    # Use re.search() to find matches\n",
    "    match = re.search(pattern, input_str)\n",
    "\n",
    "    if match:\n",
    "        # Extract year, month, and day from the match groups\n",
    "        year, month, day = match.groups()\n",
    "        \n",
    "        # Format the output string\n",
    "        output_str = f\"{year}.{month}.{day}\"\n",
    "        \n",
    "        return output_str\n",
    "    else:\n",
    "        return input_str"
   ]
  },
  {
   "cell_type": "code",
   "execution_count": null,
   "metadata": {},
   "outputs": [],
   "source": [
    "city_decks = crawl_result_pages(\n",
    "    league=\"City\",\n",
    "    result_page_limit=1,\n",
    "    deck_page_limit=1,\n",
    "    start_page_num=1,\n",
    "    card_db=\"../db/ptcg_card.db\"\n",
    ")"
   ]
  },
  {
   "cell_type": "code",
   "execution_count": null,
   "metadata": {},
   "outputs": [],
   "source": [
    "db_file = \"../db/city_deck_db.json\"\n",
    "DB = TinyDB(db_file, indent=4, ensure_ascii=False)\n",
    "DB.drop_tables()\n",
    "\n",
    "for date, decks in city_decks.items():\n",
    "    date = datetime_transform(date)\n",
    "    for deck in decks:\n",
    "        temp = {\n",
    "            'pokemons': deck['pokemons'],\n",
    "            'tools': deck['tools'],\n",
    "            'supporters': deck['supporters'],\n",
    "            'stadiums': deck['stadiums'],\n",
    "            'energies': deck['energies'],\n",
    "        }\n",
    "        categ = deck_categorizer(temp)\n",
    "        categ = categ if categ else \"Others\"\n",
    "        document = {\"date\": date, \"category\": categ, \"deck\": temp}\n",
    "        DB.insert(document)\n"
   ]
  },
  {
   "cell_type": "code",
   "execution_count": null,
   "metadata": {},
   "outputs": [],
   "source": []
  }
 ],
 "metadata": {
  "kernelspec": {
   "display_name": "pokeca-rec",
   "language": "python",
   "name": "python3"
  },
  "language_info": {
   "codemirror_mode": {
    "name": "ipython",
    "version": 3
   },
   "file_extension": ".py",
   "mimetype": "text/x-python",
   "name": "python",
   "nbconvert_exporter": "python",
   "pygments_lexer": "ipython3",
   "version": "3.10.13"
  }
 },
 "nbformat": 4,
 "nbformat_minor": 2
}
