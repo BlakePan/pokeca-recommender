{
 "cells": [
  {
   "cell_type": "code",
   "execution_count": 2,
   "metadata": {},
   "outputs": [],
   "source": [
    "import sqlite3\n"
   ]
  },
  {
   "cell_type": "code",
   "execution_count": 3,
   "metadata": {},
   "outputs": [
    {
     "data": {
      "text/plain": [
       "[(1, 1, 'フシギダネ', '妙蛙種子'),\n",
       " (2, 2, 'フシギソウ', '妙蛙草'),\n",
       " (3, 3, 'フシギバナ', '妙蛙花'),\n",
       " (4, 4, 'ヒトカゲ', '小火龍'),\n",
       " (5, 5, 'リザード', '火恐龍'),\n",
       " (6, 6, 'リザードン', '噴火龍'),\n",
       " (7, 7, 'ゼニガメ', '傑尼龜'),\n",
       " (8, 8, 'カメール', '卡咪龜'),\n",
       " (9, 9, 'カメックス', '水箭龜'),\n",
       " (10, 10, 'キャタピー', '綠毛蟲')]"
      ]
     },
     "metadata": {},
     "output_type": "display_data"
    },
    {
     "data": {
      "text/plain": [
       "[('皮卡丘',)]"
      ]
     },
     "metadata": {},
     "output_type": "display_data"
    },
    {
     "data": {
      "text/plain": [
       "[('モクロー',)]"
      ]
     },
     "metadata": {},
     "output_type": "display_data"
    }
   ],
   "source": [
    "# Pokemon Name\n",
    "conn = sqlite3.connect('../db/pokemon_name.db')\n",
    "cursor = conn.cursor()\n",
    "\n",
    "# Retrieve and print all rows in the table\n",
    "cursor.execute(\"SELECT * FROM pokemon_name LIMIT 10;\")\n",
    "display(cursor.fetchall())\n",
    "\n",
    "cursor.execute(\"SELECT name_tw FROM pokemon_name WHERE name_jp = 'ピカチュウ';\")\n",
    "res = cursor.fetchall()\n",
    "display(res)\n",
    "\n",
    "cursor.execute(\"SELECT name_jp FROM pokemon_name WHERE name_tw = '木木梟';\")\n",
    "res = cursor.fetchall()\n",
    "display(res)\n",
    "\n",
    "conn.close()"
   ]
  },
  {
   "cell_type": "code",
   "execution_count": 8,
   "metadata": {},
   "outputs": [
    {
     "data": {
      "text/plain": [
       "[(1,\n",
       "  'pokemon',\n",
       "  'モンジャラ',\n",
       "  'basic',\n",
       "  80,\n",
       "  'grass',\n",
       "  'NaN',\n",
       "  '[\"none, ひっぱたく, 10, \", \"grass none, つるでうつ, 30, \"]',\n",
       "  'NaN',\n",
       "  'fire×2',\n",
       "  'NaN',\n",
       "  'nonex2',\n",
       "  'No.114 ツルじょうポケモン 高さ：1.0 m  重さ：35.0 kg ちぎれても 無限に 伸びる ツルの 奥の 正体は いまだ 解明されていない。',\n",
       "  '08ca521fee7af35382a29b6841eeb7da4ff0b37d4755813125a41301208b4038',\n",
       "  '[\"SV5a-001/066\"]',\n",
       "  '[\"https://www.pokemon-card.com/assets/images/card_images/large/SV5a/045577_P_MONJIXYARA.jpg\"]',\n",
       "  '[\"c_c\"]'),\n",
       " (2,\n",
       "  'pokemon',\n",
       "  'モジャンボ',\n",
       "  'evo1',\n",
       "  150,\n",
       "  'grass',\n",
       "  'みつりんボディ: このポケモンが受けるワザのダメージは「-30」される。',\n",
       "  '[\"grass none none, おおいかぶさる, 150－, このポケモンにのっているダメカンの数×10ダメージぶん、このワザのダメージは小さくなる。\"]',\n",
       "  'NaN',\n",
       "  'fire×2',\n",
       "  'NaN',\n",
       "  'nonex4',\n",
       "  'No.465 ツルじょうポケモン 高さ：2.0 m  重さ：128.6 kg 自在に 伸びる ２本の 腕は じつは ツルが 束になったものと 最近の 研究で わかった。',\n",
       "  '2b35e895743477f52b7ca379dca86e6cc55f58f0ab47ab589e248c82043ba6ce',\n",
       "  '[\"SV5a-002/066\"]',\n",
       "  '[\"https://www.pokemon-card.com/assets/images/card_images/large/SV5a/045578_P_MOJIXYANBO.jpg\"]',\n",
       "  '[\"c_c\"]'),\n",
       " (3,\n",
       "  'pokemon',\n",
       "  'カイロス',\n",
       "  'basic',\n",
       "  110,\n",
       "  'grass',\n",
       "  'NaN',\n",
       "  '[\"grass none, スロークランチ , このポケモンについているエネルギーを、すべてトラッシュする。次の相手の番の終わりに、このワザを受けたポケモンはきぜつする。\", \"grass none none, かいりきホーン, 100, \"]',\n",
       "  'NaN',\n",
       "  'fire×2',\n",
       "  'NaN',\n",
       "  'nonex2',\n",
       "  'No.127 くわがたポケモン 高さ：1.5 m  重さ：55.0 kg ツノで 互いを 格付けする。 太く 立派な ツノを 持つ カイロスほど 異性に 人気。',\n",
       "  '9fea709dcd3bbadab2b96a96aa9dc944922f454fa21a590e5f67836d5852ae0a',\n",
       "  '[\"SV5a-003/066\"]',\n",
       "  '[\"https://www.pokemon-card.com/assets/images/card_images/large/SV5a/045579_P_KAIROSU.jpg\"]',\n",
       "  '[\"c_c\"]')]"
      ]
     },
     "metadata": {},
     "output_type": "display_data"
    },
    {
     "data": {
      "text/plain": [
       "[(53,\n",
       "  'tool',\n",
       "  'アンフェアスタンプ',\n",
       "  'NaN',\n",
       "  'NaN',\n",
       "  'NaN',\n",
       "  'NaN',\n",
       "  'NaN',\n",
       "  'NaN',\n",
       "  'NaN',\n",
       "  'NaN',\n",
       "  'NaN',\n",
       "  'このカードは、前の相手の番に、自分のポケモンがきぜつしていなければ使えない。おたがいのプレイヤーは、それぞれ手札をすべて山札にもどして切る。その後、自分は5枚、相手は2枚、山札を引く。',\n",
       "  '3ae95a4acf084f693e160905d469b1f569dd0b2a8984071f1e279ce7851506ab',\n",
       "  '[\"SV5a-053/066\"]',\n",
       "  '[\"https://www.pokemon-card.com/assets/images/card_images/large/SV5a/045640_T_ANFUEASUTANPU.jpg\"]',\n",
       "  '[\"NaN\"]'),\n",
       " (54,\n",
       "  'tool',\n",
       "  '改造ハンマー',\n",
       "  'NaN',\n",
       "  'NaN',\n",
       "  'NaN',\n",
       "  'NaN',\n",
       "  'NaN',\n",
       "  'NaN',\n",
       "  'NaN',\n",
       "  'NaN',\n",
       "  'NaN',\n",
       "  '相手の場のポケモンについている特殊エネルギーを1個選び、トラッシュする。',\n",
       "  '3baf72aeb75cf044ead7011d76d7b96ea6853441760a902072a8d193860fc1ff',\n",
       "  '[\"SV5a-054/066\"]',\n",
       "  '[\"https://www.pokemon-card.com/assets/images/card_images/large/SV5a/045629_T_KAIZOUHANMA.jpg\"]',\n",
       "  '[\"u_c\"]'),\n",
       " (55,\n",
       "  'tool',\n",
       "  'ハイパーアロマ',\n",
       "  'NaN',\n",
       "  'NaN',\n",
       "  'NaN',\n",
       "  'NaN',\n",
       "  'NaN',\n",
       "  'NaN',\n",
       "  'NaN',\n",
       "  'NaN',\n",
       "  'NaN',\n",
       "  '自分の山札から1進化ポケモンを3枚まで選び、相手に見せて、手札に加える。そして山札を切る。',\n",
       "  '2fc203e35e7b93bfbc7dc15b1b84afb0a1b518625160467994c8c352d3a2b85a',\n",
       "  '[\"SV5a-055/066\"]',\n",
       "  '[\"https://www.pokemon-card.com/assets/images/card_images/large/SV5a/045641_T_HAIPAAROMA.jpg\"]',\n",
       "  '[\"NaN\"]')]"
      ]
     },
     "metadata": {},
     "output_type": "display_data"
    },
    {
     "data": {
      "text/plain": [
       "[(230,\n",
       "  'pokemon',\n",
       "  'ピカチュウ',\n",
       "  'basic',\n",
       "  70,\n",
       "  'electric',\n",
       "  'NaN',\n",
       "  '[\"electric, でんじスパーク , 相手のポケモン1匹に、10ダメージ。［ベンチは弱点・抵抗力を計算しない。］\"]',\n",
       "  'NaN',\n",
       "  'fighting×2',\n",
       "  'NaN',\n",
       "  'nonex1',\n",
       "  'No.025 ねずみポケモン 高さ：0.4 m  重さ：6.0 kg 何匹かが 集まっていると そこに 猛烈な 電気が 溜まり 稲妻が 落ちることがあるという。',\n",
       "  '456cb4fb55f64fac7500ad3886452986e19b3110f985cc5dab9460948e2e9755',\n",
       "  '[\"SV5M-023/071\"]',\n",
       "  '[\"https://www.pokemon-card.com/assets/images/card_images/large/SV5M/045240_P_PIKACHIXYUU.jpg\"]',\n",
       "  '[\"c_c\"]'),\n",
       " (392,\n",
       "  'pokemon',\n",
       "  'ピカチュウ',\n",
       "  'basic',\n",
       "  70,\n",
       "  'electric',\n",
       "  'NaN',\n",
       "  '[\"none, なきごえ , 次の相手の番、このワザを受けたポケモンが使うワザのダメージは「-20」される。\", \"electric none, ピカボルト, 30, \"]',\n",
       "  'NaN',\n",
       "  'fighting×2',\n",
       "  'NaN',\n",
       "  'nonex1',\n",
       "  'No.025 ねずみポケモン 高さ：0.4 m  重さ：6.0 kg 両頬には 電気を 溜めこむ 袋がある。 怒ると 溜めこんだ 電気を 一気に 放ってくる。',\n",
       "  '361f613b53ee8535048df7378ce694e54eb232761bcb3a919fec773f4a879f46',\n",
       "  '[\"SV4a-055/190\", \"SV4a-236/190\", \"SVD-034/139\", \"SV2D-017/071\", \"SV-P-074/SV-P\"]',\n",
       "  '[\"https://www.pokemon-card.com/assets/images/card_images/large/SV4a/044578_P_PIKACHIXYUU.jpg\", \"https://www.pokemon-card.com/assets/images/card_images/large/SV4a/045022_P_PIKACHIXYUU.jpg\", \"https://www.pokemon-card.com/assets/images/card_images/large/SVD/043736_P_PIKACHIXYUU.jpg\", \"https://www.pokemon-card.com/assets/images/card_images/large/SV2D/043153_P_PIKACHIXYUU.jpg\", \"https://www.pokemon-card.com/assets/images/card_images/large/SV-P/044212_P_PIKACHIXYUU.jpg\"]',\n",
       "  '[\"NaN\", \"s_2\", \"NaN\", \"c_c\", \"NaN\"]'),\n",
       " (957,\n",
       "  'pokemon',\n",
       "  'ピカチュウ',\n",
       "  'basic',\n",
       "  60,\n",
       "  'electric',\n",
       "  'NaN',\n",
       "  '[\"electric, じゅうでん , 自分の山札から「基本エネルギー」を1枚選び、このポケモンにつける。そして山札を切る。\", \"electric electric none, ピカパンチ, 50, \"]',\n",
       "  'NaN',\n",
       "  'fighting×2',\n",
       "  'NaN',\n",
       "  'nonex1',\n",
       "  'No.025 ねずみポケモン 高さ：0.4 m  重さ：6.0 kg 両頬には 電気を 溜めこむ 袋がある。 怒ると 溜めこんだ 電気を 一気に 放ってくる。',\n",
       "  'd8c65cff9b97ecc2a0624e3cd0ba153e83c27cd7c29a57b067eb30ef39515f80',\n",
       "  '[\"SV2a-025/165\", \"SV2a-173/165\"]',\n",
       "  '[\"https://www.pokemon-card.com/assets/images/card_images/large/SV2a/043346_P_PIKACHIXYUU.jpg\", \"https://www.pokemon-card.com/assets/images/card_images/large/SV2a/043958_P_PIKACHIXYUU.jpg\"]',\n",
       "  '[\"c_c\", \"ar\"]')]"
      ]
     },
     "metadata": {},
     "output_type": "display_data"
    }
   ],
   "source": [
    "# PTCG cards\n",
    "conn = sqlite3.connect('../db/ptcg_card.db')\n",
    "cursor = conn.cursor()\n",
    "\n",
    "# Retrieve and print all rows in the table\n",
    "cursor.execute(\"SELECT * FROM ptcg_card LIMIT 3;\")\n",
    "display(cursor.fetchall())\n",
    "\n",
    "# card_type: pokemon, tool, item, stadium, supporter, basic_energy, special_energy\n",
    "cursor.execute(\"SELECT * FROM ptcg_card WHERE card_type = 'tool' LIMIT 3;\")\n",
    "res = cursor.fetchall()\n",
    "display(res)\n",
    "\n",
    "# card_name_jp\n",
    "cursor.execute(\"SELECT * FROM ptcg_card WHERE card_name_jp = 'ピカチュウ' LIMIT 3;\")\n",
    "res = cursor.fetchall()\n",
    "display(res)\n",
    "\n",
    "conn.close()"
   ]
  },
  {
   "cell_type": "code",
   "execution_count": null,
   "metadata": {},
   "outputs": [],
   "source": []
  }
 ],
 "metadata": {
  "kernelspec": {
   "display_name": "deck",
   "language": "python",
   "name": "python3"
  },
  "language_info": {
   "codemirror_mode": {
    "name": "ipython",
    "version": 3
   },
   "file_extension": ".py",
   "mimetype": "text/x-python",
   "name": "python",
   "nbconvert_exporter": "python",
   "pygments_lexer": "ipython3",
   "version": "3.10.13"
  }
 },
 "nbformat": 4,
 "nbformat_minor": 2
}
