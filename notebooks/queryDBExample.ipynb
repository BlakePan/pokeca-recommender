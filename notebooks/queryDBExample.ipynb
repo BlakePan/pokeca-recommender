{
 "cells": [
  {
   "cell_type": "code",
   "execution_count": 1,
   "metadata": {},
   "outputs": [],
   "source": [
    "import sqlite3\n"
   ]
  },
  {
   "cell_type": "code",
   "execution_count": 2,
   "metadata": {},
   "outputs": [
    {
     "data": {
      "text/plain": [
       "[(1, 1, 'フシギダネ', '妙蛙種子'),\n",
       " (2, 2, 'フシギソウ', '妙蛙草'),\n",
       " (3, 3, 'フシギバナ', '妙蛙花'),\n",
       " (4, 4, 'ヒトカゲ', '小火龍'),\n",
       " (5, 5, 'リザード', '火恐龍'),\n",
       " (6, 6, 'リザードン', '噴火龍'),\n",
       " (7, 7, 'ゼニガメ', '傑尼龜'),\n",
       " (8, 8, 'カメール', '卡咪龜'),\n",
       " (9, 9, 'カメックス', '水箭龜'),\n",
       " (10, 10, 'キャタピー', '綠毛蟲')]"
      ]
     },
     "metadata": {},
     "output_type": "display_data"
    },
    {
     "data": {
      "text/plain": [
       "[('皮卡丘',)]"
      ]
     },
     "metadata": {},
     "output_type": "display_data"
    },
    {
     "data": {
      "text/plain": [
       "[('モクロー',)]"
      ]
     },
     "metadata": {},
     "output_type": "display_data"
    }
   ],
   "source": [
    "# Pokemon Name\n",
    "conn = sqlite3.connect('../db/pokemon_name.db')\n",
    "cursor = conn.cursor()\n",
    "\n",
    "# Retrieve and print all rows in the table\n",
    "cursor.execute(\"SELECT * FROM pokemon_name LIMIT 10;\")\n",
    "display(cursor.fetchall())\n",
    "\n",
    "cursor.execute(\"SELECT name_tw FROM pokemon_name WHERE name_jp = 'ピカチュウ';\")\n",
    "res = cursor.fetchall()\n",
    "display(res)\n",
    "\n",
    "cursor.execute(\"SELECT name_jp FROM pokemon_name WHERE name_tw = '木木梟';\")\n",
    "res = cursor.fetchall()\n",
    "display(res)\n",
    "\n",
    "conn.close()"
   ]
  },
  {
   "cell_type": "code",
   "execution_count": 3,
   "metadata": {},
   "outputs": [
    {
     "data": {
      "text/plain": [
       "[(2344,)]"
      ]
     },
     "metadata": {},
     "output_type": "display_data"
    },
    {
     "data": {
      "text/plain": [
       "[(2344,\n",
       "  'special_energy',\n",
       "  'レガシーエネルギー',\n",
       "  'NaN',\n",
       "  'NaN',\n",
       "  'NaN',\n",
       "  'NaN',\n",
       "  'NaN',\n",
       "  'NaN',\n",
       "  'NaN',\n",
       "  'NaN',\n",
       "  'NaN',\n",
       "  'このカードは、ポケモンについているかぎり、すべてのタイプのエネルギー1個ぶんとしてはたらく。このカードをつけているポケモンが、相手のポケモンからワザのダメージを受けてきぜつしたとき、とられるサイドは1枚少なくなる。対戦中、自分の「レガシーエネルギー」のこの効果は、1回しかはたらかない。',\n",
       "  '39d193354d3fcf220f8d6f4ddfb8588ea8dcaf213577a91e2802620386881e3f',\n",
       "  '[\"SV6-101/101\"]',\n",
       "  '[\"https://www.pokemon-card.com/assets/images/card_images/large/SV6/045792_E_REGASHIENERUGI.jpg\"]',\n",
       "  '[\"NaN\"]')]"
      ]
     },
     "metadata": {},
     "output_type": "display_data"
    },
    {
     "data": {
      "text/plain": [
       "[(1593,\n",
       "  'pokemon',\n",
       "  'ヒマナッツ',\n",
       "  'basic',\n",
       "  40,\n",
       "  'grass',\n",
       "  'NaN',\n",
       "  '[\"none none, タネばくだん, 20, \"]',\n",
       "  'NaN',\n",
       "  'fire×2',\n",
       "  'NaN',\n",
       "  'nonex1',\n",
       "  'No.191 たねポケモン 高さ：0.3 m  重さ：1.8 kg 葉っぱの 裏側に たまった 朝露だけを 飲んで 暮らす。 他には なにも 食べないという。',\n",
       "  '7de0da98f6293ccd4e9f54f44a0adabad62d7041412a5ac4c14ad7bba10269a4',\n",
       "  '[\"S11-003/100\", \"S-P-294/S-P\"]',\n",
       "  '[\"https://www.pokemon-card.com/assets/images/card_images/large/S11/041807_P_HIMANATTSU.jpg\", \"https://www.pokemon-card.com/assets/images/card_images/large/S-P/041947_P_HIMANATTSU.jpg\"]',\n",
       "  '[\"c_c\", \"NaN\"]'),\n",
       " (2244,\n",
       "  'pokemon',\n",
       "  'ヒマナッツ',\n",
       "  'basic',\n",
       "  40,\n",
       "  'grass',\n",
       "  'NaN',\n",
       "  '[\"grass, タネマシンガン, 10×, コインを4回投げ、オモテの数×10ダメージ。\"]',\n",
       "  'NaN',\n",
       "  'fire×2',\n",
       "  'NaN',\n",
       "  'nonex1',\n",
       "  'No.191 たねポケモン 高さ：0.3 m  重さ：1.8 kg とても ひ弱。 襲われても 葉っぱを 必死に 振りまわして 追い払うのが やっとだ。',\n",
       "  '3f168d1555dcc15ad141d76fed81a2942eaddedd331e33b4e811369d3c0f5d7c',\n",
       "  '[\"SV6-001/101\"]',\n",
       "  '[\"https://www.pokemon-card.com/assets/images/card_images/large/SV6/045692_P_HIMANATTSU.jpg\"]',\n",
       "  '[\"c_c\"]')]"
      ]
     },
     "metadata": {},
     "output_type": "display_data"
    }
   ],
   "source": [
    "# PTCG cards\n",
    "conn = sqlite3.connect('../db/ptcg_card.db')\n",
    "cursor = conn.cursor()\n",
    "\n",
    "cursor.execute(\"SELECT COUNT(*) FROM ptcg_card;\")\n",
    "display(cursor.fetchall())\n",
    "\n",
    "cursor.execute(\"SELECT * FROM ptcg_card ORDER BY id DESC LIMIT 1;\")\n",
    "display(cursor.fetchall())\n",
    "\n",
    "# # card_type: pokemon, tool, item, stadium, supporter, basic_energy, special_energy\n",
    "# cursor.execute(\"SELECT * FROM ptcg_card WHERE card_type = 'tool' LIMIT 3;\")\n",
    "# res = cursor.fetchall()\n",
    "# display(res)\n",
    "\n",
    "# card_name_jp\n",
    "cursor.execute(\"SELECT * FROM ptcg_card WHERE card_name_jp = 'ヒマナッツ';\")\n",
    "res = cursor.fetchall()\n",
    "display(res)\n",
    "\n",
    "conn.close()"
   ]
  },
  {
   "cell_type": "markdown",
   "metadata": {},
   "source": []
  },
  {
   "cell_type": "code",
   "execution_count": null,
   "metadata": {},
   "outputs": [],
   "source": [
    "from tinydb import Query, TinyDB\n",
    "db_file = \"../db/deck_db.json\"\n",
    "DB = TinyDB(db_file, indent=4, ensure_ascii=False)"
   ]
  },
  {
   "cell_type": "code",
   "execution_count": null,
   "metadata": {},
   "outputs": [],
   "source": [
    "include_cards = []\n",
    "exclude_cards = []\n",
    "date_start = \"\"\n",
    "date_end = \"\""
   ]
  }
 ],
 "metadata": {
  "kernelspec": {
   "display_name": "deck",
   "language": "python",
   "name": "python3"
  },
  "language_info": {
   "codemirror_mode": {
    "name": "ipython",
    "version": 3
   },
   "file_extension": ".py",
   "mimetype": "text/x-python",
   "name": "python",
   "nbconvert_exporter": "python",
   "pygments_lexer": "ipython3",
   "version": "3.10.13"
  }
 },
 "nbformat": 4,
 "nbformat_minor": 2
}
