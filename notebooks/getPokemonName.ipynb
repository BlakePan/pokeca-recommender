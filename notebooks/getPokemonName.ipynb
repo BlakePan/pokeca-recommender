{
 "cells": [
  {
   "cell_type": "code",
   "execution_count": null,
   "metadata": {},
   "outputs": [],
   "source": [
    "from selenium import webdriver\n",
    "from selenium.common.exceptions import (NoSuchElementException,\n",
    "                                        WebDriverException)\n",
    "from selenium.webdriver.common.by import By\n",
    "from selenium.webdriver.remote.webelement import WebElement\n",
    "from selenium.webdriver.support import expected_conditions as EC\n",
    "from selenium.webdriver.support.ui import WebDriverWait\n",
    "\n",
    "import sqlite3"
   ]
  },
  {
   "cell_type": "code",
   "execution_count": null,
   "metadata": {},
   "outputs": [],
   "source": [
    "\"\"\"demo\n",
    "import sqlite3\n",
    "\n",
    "conn = sqlite3.connect('./pokemon_name.db')\n",
    "cursor = conn.cursor()\n",
    "cursor.execute('''CREATE TABLE IF NOT EXISTS pokemon_name\n",
    "               (id INTEGER PRIMARY KEY, name_jp TEXT, name_tw TEXT)''')\n",
    "\n",
    "# Assuming 'a' and 'b' are the values you want to insert for name_jp and name_tw\n",
    "value_for_a = 'ピカチュウ'  # Example value for name_jp\n",
    "value_for_b = '皮卡丘'    # Example value for name_tw\n",
    "\n",
    "# Insert data into the table\n",
    "cursor.execute(\"INSERT INTO pokemon_name (name_jp, name_tw) VALUES (?, ?)\", (value_for_a, value_for_b))\n",
    "conn.commit()\n",
    "\n",
    "# Retrieve and print all rows in the table\n",
    "cursor.execute(\"SELECT * FROM pokemon_name\")\n",
    "print(cursor.fetchall())\n",
    "\n",
    "conn.close()\n",
    "\n",
    "\"\"\""
   ]
  },
  {
   "cell_type": "code",
   "execution_count": null,
   "metadata": {},
   "outputs": [],
   "source": [
    "db_file = \"./pokemon_name.db\"\n",
    "conn = sqlite3.connect(db_file)\n",
    "cursor = conn.cursor()\n",
    "cursor.execute('''DROP TABLE IF EXISTS pokemon_name;''')\n",
    "cursor.execute('''CREATE TABLE pokemon_name\n",
    "               (id INTEGER PRIMARY KEY, number INT, name_jp TEXT, name_tw TEXT);''')"
   ]
  },
  {
   "cell_type": "code",
   "execution_count": null,
   "metadata": {},
   "outputs": [],
   "source": [
    "TARGET_URL = \"https://wiki.52poke.com/zh-hant/%E5%AE%9D%E5%8F%AF%E6%A2%A6%E5%88%97%E8%A1%A8%EF%BC%88%E5%9C%A8%E5%85%B6%E4%BB%96%E8%AF%AD%E8%A8%80%E4%B8%AD%EF%BC%89\"\n",
    "with webdriver.Chrome() as driver:\n",
    "    # Init driver\n",
    "    driver.implicitly_wait(2)\n",
    "    driver.get(TARGET_URL)\n",
    "\n",
    "    # Get table\n",
    "    table = driver.find_element(By.CLASS_NAME, \"bg-神奇宝贝百科.bd-神奇宝贝百科.hvlist.a-c.roundy\")\n",
    "    \n",
    "    # Extract all rows and cols from the table\n",
    "    rows = table.find_elements(By.TAG_NAME, 'tr')\n",
    "    for row in rows:\n",
    "        cols = row.find_elements(By.TAG_NAME, 'td')\n",
    "        row_data = [col.text for col in cols]\n",
    "        print(row_data)\n",
    "        if not row_data: continue\n",
    "\n",
    "        # values we need\n",
    "        number = row_data[0]\n",
    "        name_jp = row_data[6]\n",
    "        name_tw = row_data[2]\n",
    "        name_tw = name_tw if \"\\n\" not in name_tw else name_tw.split(\"\\n\")[0]  # raw: 鐵甲蛹\\n铁甲蛹 or 烈雀\n",
    "\n",
    "        if not number.isnumeric(): continue\n",
    "        number = int(number)\n",
    "        if number < 1: continue\n",
    "\n",
    "        # Insert a row of data\n",
    "        cursor.execute(\n",
    "            \"INSERT INTO pokemon_name (number, name_jp, name_tw) VALUES (?, ?, ?);\",\n",
    "            (number, name_jp, name_tw))\n",
    "        conn.commit()"
   ]
  },
  {
   "cell_type": "code",
   "execution_count": null,
   "metadata": {},
   "outputs": [],
   "source": [
    "conn.close()"
   ]
  },
  {
   "cell_type": "code",
   "execution_count": null,
   "metadata": {},
   "outputs": [],
   "source": []
  }
 ],
 "metadata": {
  "kernelspec": {
   "display_name": "deck",
   "language": "python",
   "name": "python3"
  },
  "language_info": {
   "codemirror_mode": {
    "name": "ipython",
    "version": 3
   },
   "file_extension": ".py",
   "mimetype": "text/x-python",
   "name": "python",
   "nbconvert_exporter": "python",
   "pygments_lexer": "ipython3",
   "version": "3.10.13"
  }
 },
 "nbformat": 4,
 "nbformat_minor": 2
}
