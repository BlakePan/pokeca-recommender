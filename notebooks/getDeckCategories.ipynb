{
 "cells": [
  {
   "cell_type": "markdown",
   "metadata": {},
   "source": [
    "## Collect decks from pokecabook and build category database"
   ]
  },
  {
   "cell_type": "code",
   "execution_count": null,
   "metadata": {},
   "outputs": [],
   "source": [
    "import json\n",
    "\n",
    "import sys\n",
    "from pathlib import Path\n",
    "\n",
    "sys.path.append(str(Path.cwd().parent))\n",
    "\n",
    "from pokeca_rec.src.pokecabook_crawler import crawl_recipe_pages\n",
    "from pokeca_rec.src.deck_categorizer import DeckCategorizer\n",
    "\n",
    "RUN_CRAWLER = False\n",
    "page_start = 1\n",
    "num_pages = 10"
   ]
  },
  {
   "cell_type": "code",
   "execution_count": null,
   "metadata": {},
   "outputs": [],
   "source": [
    "if RUN_CRAWLER:\n",
    "    deck_recipes = crawl_recipe_pages(\n",
    "        page_start=page_start, num_pages=num_pages, card_db=\"../db/ptcg_card.db\"\n",
    "    )\n",
    "    with open(\"./temp.json\", \"w\") as f:\n",
    "        json.dump(deck_recipes, f, indent=4, ensure_ascii=False)"
   ]
  },
  {
   "cell_type": "code",
   "execution_count": null,
   "metadata": {},
   "outputs": [],
   "source": [
    "# init and save db\n",
    "with open(\"./temp.json\", \"r\") as f:\n",
    "    deck_recipes = json.load(f)\n",
    "categorizer = DeckCategorizer(\n",
    "    deck_recipes, category_db_path=\"../db/deck_category.json\"\n",
    ")"
   ]
  },
  {
   "cell_type": "code",
   "execution_count": null,
   "metadata": {},
   "outputs": [],
   "source": []
  }
 ],
 "metadata": {
  "kernelspec": {
   "display_name": "pokeca-rec",
   "language": "python",
   "name": "python3"
  },
  "language_info": {
   "codemirror_mode": {
    "name": "ipython",
    "version": 3
   },
   "file_extension": ".py",
   "mimetype": "text/x-python",
   "name": "python",
   "nbconvert_exporter": "python",
   "pygments_lexer": "ipython3",
   "version": "3.10.13"
  }
 },
 "nbformat": 4,
 "nbformat_minor": 2
}
