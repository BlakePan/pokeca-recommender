{
 "cells": [
  {
   "cell_type": "code",
   "execution_count": 5,
   "metadata": {},
   "outputs": [
    {
     "data": {
      "text/plain": [
       "[(1, 1, 'フシギダネ', '妙蛙種子'),\n",
       " (2, 2, 'フシギソウ', '妙蛙草'),\n",
       " (3, 3, 'フシギバナ', '妙蛙花'),\n",
       " (4, 4, 'ヒトカゲ', '小火龍'),\n",
       " (5, 5, 'リザード', '火恐龍'),\n",
       " (6, 6, 'リザードン', '噴火龍'),\n",
       " (7, 7, 'ゼニガメ', '傑尼龜'),\n",
       " (8, 8, 'カメール', '卡咪龜'),\n",
       " (9, 9, 'カメックス', '水箭龜'),\n",
       " (10, 10, 'キャタピー', '綠毛蟲'),\n",
       " (11, 11, 'トランセル', '鐵甲蛹'),\n",
       " (12, 12, 'バタフリー', '巴大蝶'),\n",
       " (13, 13, 'ビードル', '獨角蟲'),\n",
       " (14, 14, 'コクーン', '鐵殼蛹'),\n",
       " (15, 15, 'スピアー', '大針蜂'),\n",
       " (16, 16, 'ポッポ', '波波'),\n",
       " (17, 17, 'ピジョン', '比比鳥'),\n",
       " (18, 18, 'ピジョット', '大比鳥'),\n",
       " (19, 19, 'コラッタ', '小拉達'),\n",
       " (20, 20, 'ラッタ', '拉達'),\n",
       " (21, 21, 'オニスズメ', '烈雀'),\n",
       " (22, 22, 'オニドリル', '大嘴雀'),\n",
       " (23, 23, 'アーボ', '阿柏蛇'),\n",
       " (24, 24, 'アーボック', '阿柏怪'),\n",
       " (25, 25, 'ピカチュウ', '皮卡丘'),\n",
       " (26, 26, 'ライチュウ', '雷丘'),\n",
       " (27, 27, 'サンド', '穿山鼠'),\n",
       " (28, 28, 'サンドパン', '穿山王'),\n",
       " (29, 29, 'ニドラン♀', '尼多蘭'),\n",
       " (30, 30, 'ニドリーナ', '尼多娜')]"
      ]
     },
     "metadata": {},
     "output_type": "display_data"
    },
    {
     "data": {
      "text/plain": [
       "[('皮卡丘',)]"
      ]
     },
     "metadata": {},
     "output_type": "display_data"
    },
    {
     "data": {
      "text/plain": [
       "[('モクロー',)]"
      ]
     },
     "metadata": {},
     "output_type": "display_data"
    }
   ],
   "source": [
    "import sqlite3\n",
    "\n",
    "conn = sqlite3.connect('./pokemon_name.db')\n",
    "cursor = conn.cursor()\n",
    "\n",
    "# Retrieve and print all rows in the table\n",
    "cursor.execute(\"SELECT * FROM pokemon_name LIMIT 30;\")\n",
    "display(cursor.fetchall())\n",
    "\n",
    "cursor.execute(\"SELECT name_tw FROM pokemon_name WHERE name_jp = 'ピカチュウ';\")\n",
    "res = cursor.fetchall()\n",
    "display(res)\n",
    "\n",
    "cursor.execute(\"SELECT name_jp FROM pokemon_name WHERE name_tw = '木木梟';\")\n",
    "res = cursor.fetchall()\n",
    "display(res)\n",
    "\n",
    "conn.close()"
   ]
  },
  {
   "cell_type": "code",
   "execution_count": null,
   "metadata": {},
   "outputs": [],
   "source": []
  }
 ],
 "metadata": {
  "kernelspec": {
   "display_name": "deck",
   "language": "python",
   "name": "python3"
  },
  "language_info": {
   "codemirror_mode": {
    "name": "ipython",
    "version": 3
   },
   "file_extension": ".py",
   "mimetype": "text/x-python",
   "name": "python",
   "nbconvert_exporter": "python",
   "pygments_lexer": "ipython3",
   "version": "3.10.13"
  }
 },
 "nbformat": 4,
 "nbformat_minor": 2
}
